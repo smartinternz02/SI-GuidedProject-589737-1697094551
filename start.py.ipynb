{
  "nbformat": 4,
  "nbformat_minor": 0,
  "metadata": {
    "colab": {
      "provenance": []
    },
    "kernelspec": {
      "name": "python3",
      "display_name": "Python 3"
    },
    "language_info": {
      "name": "python"
    }
  },
  "cells": [
    {
      "cell_type": "code",
      "execution_count": 1,
      "metadata": {
        "id": "Qkii_k1dRFLW"
      },
      "outputs": [],
      "source": [
        "import spacy\n",
        "from spacy.lang.en.stop_words import STOP_WORDS\n",
        "from string import punctuation\n",
        "import numpy as np"
      ]
    },
    {
      "cell_type": "code",
      "source": [
        "doc =\"\"\"Machine learning (ML) and artificial intelligence (AI) are becoming dominant problem-solving techniques in many areas of resear ch and industry, not least because of the recent successes of deep learning (DL). However, the equation AI-ML-DL, as recently s uggested in the news, blogs, and media, falls too short. These fields share the same fundamental hypotheses: computation is a u seful way to model intelligent behavior in machines. What kind of computation and how to program it? This is not the right ques tion. Computation neither rules out search, logical, and probabilistic techniques, nor (deep) (un) supervised and reinforcement learning methods, among others, as computational models do include all of them. They complement each other, and the next breakt hrough lies not only in pushing each of them but also in combining them.\n",
        "Big Data is no fad. The world is growing at an exponential rate and so is the size of the data collected across the globe. Data is becoming more meaningful and contextually relevant, breaking new grounds for machine learning (ML), in particular for deep 1 earning (DL) and artificial intelligence (AI), moving them out of research labs into production (Jordan and Mitchell, 2015). Th e problem has shifted from collecting massive amounts of data to understanding it-turning it into knowledge, conclusions, and a ctions. Multiple research disciplines, from cognitive sciences to biology, finance, physics, and social sciences, as well as ma ny companies believe that data-driven and \"intelligent\" solutions are necessary to solve many of their key problems. High-throu ghput genomic and proteomic experiments can be used to enable personalized medicine. Large data sets of search queries can be u sed to improve information retrieval. Historical climate data can be used to understand global warming and to better predict we ather. Large amounts of sensor readings and hyperspectral images of plants can be used to identify drought conditions and to ga in insights into when and how stress impacts plant growth and development and in turn how to counterattack the problem of world hunger. Game data can turn pixels into actions within video games, while observational data can help enable robots to understan d complex and unstructured environments and to learn manipulation skills.\n",
        "However, is AI, ML, and DL really synonymous, as recently suggested in the news, blogs, and media? For example, when AlphaGo (S ilver et al., 2016) defeated South Korean Master Lee Se-dol in the board game Go in 2016, the terms AI, ML, and DL were used by the media to describe how AlphaGo won. In addition to this, even Gartner's list (Panetta, 2017) of top 10 Strategic Trends for 2018 places (narrow) AI at the very top, specifying it as \"consisting of highly scoped machine-learning solutions that target a specific task.\"\"\""
      ],
      "metadata": {
        "id": "J4CCUmEHRcMi"
      },
      "execution_count": 2,
      "outputs": []
    },
    {
      "cell_type": "code",
      "source": [
        "print(doc)\n"
      ],
      "metadata": {
        "colab": {
          "base_uri": "https://localhost:8080/"
        },
        "id": "YWXKBElSSNMf",
        "outputId": "8c9100ef-7d97-4eab-ac85-4e8380679e3e"
      },
      "execution_count": 3,
      "outputs": [
        {
          "output_type": "stream",
          "name": "stdout",
          "text": [
            "Machine learning (ML) and artificial intelligence (AI) are becoming dominant problem-solving techniques in many areas of resear ch and industry, not least because of the recent successes of deep learning (DL). However, the equation AI-ML-DL, as recently s uggested in the news, blogs, and media, falls too short. These fields share the same fundamental hypotheses: computation is a u seful way to model intelligent behavior in machines. What kind of computation and how to program it? This is not the right ques tion. Computation neither rules out search, logical, and probabilistic techniques, nor (deep) (un) supervised and reinforcement learning methods, among others, as computational models do include all of them. They complement each other, and the next breakt hrough lies not only in pushing each of them but also in combining them.\n",
            "Big Data is no fad. The world is growing at an exponential rate and so is the size of the data collected across the globe. Data is becoming more meaningful and contextually relevant, breaking new grounds for machine learning (ML), in particular for deep 1 earning (DL) and artificial intelligence (AI), moving them out of research labs into production (Jordan and Mitchell, 2015). Th e problem has shifted from collecting massive amounts of data to understanding it-turning it into knowledge, conclusions, and a ctions. Multiple research disciplines, from cognitive sciences to biology, finance, physics, and social sciences, as well as ma ny companies believe that data-driven and \"intelligent\" solutions are necessary to solve many of their key problems. High-throu ghput genomic and proteomic experiments can be used to enable personalized medicine. Large data sets of search queries can be u sed to improve information retrieval. Historical climate data can be used to understand global warming and to better predict we ather. Large amounts of sensor readings and hyperspectral images of plants can be used to identify drought conditions and to ga in insights into when and how stress impacts plant growth and development and in turn how to counterattack the problem of world hunger. Game data can turn pixels into actions within video games, while observational data can help enable robots to understan d complex and unstructured environments and to learn manipulation skills.\n",
            "However, is AI, ML, and DL really synonymous, as recently suggested in the news, blogs, and media? For example, when AlphaGo (S ilver et al., 2016) defeated South Korean Master Lee Se-dol in the board game Go in 2016, the terms AI, ML, and DL were used by the media to describe how AlphaGo won. In addition to this, even Gartner's list (Panetta, 2017) of top 10 Strategic Trends for 2018 places (narrow) AI at the very top, specifying it as \"consisting of highly scoped machine-learning solutions that target a specific task.\n"
          ]
        }
      ]
    },
    {
      "cell_type": "code",
      "source": [
        "stopWords = list(STOP_WORDS)\n",
        "print(stopWords)"
      ],
      "metadata": {
        "colab": {
          "base_uri": "https://localhost:8080/"
        },
        "id": "PHJaNSMXSWEF",
        "outputId": "bfef447c-656a-45e6-ed02-edd7724674ff"
      },
      "execution_count": 4,
      "outputs": [
        {
          "output_type": "stream",
          "name": "stdout",
          "text": [
            "['being', 'it', 'please', 'ca', 'onto', 'quite', 'behind', 'indeed', 'afterwards', 'us', 'used', 'yourself', 'such', 'at', 'show', 'see', 'rather', 'your', 'everything', 'since', 'sometimes', 'due', 'down', 'how', 'almost', 'side', 'along', 'am', 'very', 'even', 'go', 'hereupon', 'which', 'although', 'whereby', 'been', 'fifty', 'but', 'nor', 'with', 'moreover', 'hers', 'therein', 'n‘t', 'however', 'alone', 'himself', 'can', 'first', 'has', 'between', 'therefore', '’m', 'of', 'would', 'ten', 'upon', 'nobody', 'into', 'any', 'eight', 'something', 'wherein', 'done', 'only', 'become', 'once', 'anyhow', 'more', 'itself', 'thence', 'thereupon', 'whither', 'herein', 'nevertheless', 'further', 'anywhere', 'just', '‘m', 'name', 'herself', 'others', 'really', \"'m\", 'whence', '‘ve', 'them', 'in', 'made', 'why', 'myself', 'ever', 'towards', 'off', 'over', 'by', 'latter', 'through', 'anything', 'seeming', 'somewhere', 'whereupon', 'they', 'except', '‘re', 'twenty', 'regarding', 'if', 'every', 'mostly', 'keep', 'everywhere', 'fifteen', 'make', 'same', 'becoming', 'the', 'him', 'were', 'many', '‘s', 'former', 'while', 'still', 'there', 'using', 'you', 'above', 'as', 'does', 'under', 'was', 'yourselves', 'whereas', 'move', 'always', 'thereby', 'whenever', 'than', 'until', 'seems', 'could', 'somehow', 'hundred', 'these', 'both', 'else', 'so', 'whereafter', 'unless', 'my', 'next', 'had', '’ll', 'never', 'sometime', 'this', 'an', 'whole', 'hereby', 'up', 'around', 'part', \"n't\", '‘d', 'whom', 'well', '’re', 'who', 'thru', 'formerly', 'top', 'two', 'her', 'though', 'became', 'our', 'below', 'each', 'out', 'beforehand', 're', 'whose', 'may', 'on', 'within', 'own', 'are', 'beyond', 'forty', 'from', 'she', 'nowhere', 'without', 'none', 'mine', 'anyway', 'i', 'cannot', \"'d\", 'bottom', 'that', \"'re\", 'will', 'during', 'against', 'via', 'for', 'say', 'not', 'sixty', 'no', 'must', 'back', 'nothing', 'latterly', 'together', 'seem', 'third', 'already', 'a', 'put', 'last', 'noone', 'and', 'namely', 'neither', 'elsewhere', 'one', 'otherwise', 'hereafter', 'me', '’s', 'now', 'all', 'amongst', 'other', 'thus', 'nine', 'several', 'might', 'whoever', 'should', \"'ll\", 'less', 'too', 'someone', 'themselves', 'another', 'did', 'front', 'get', 'he', 'then', 'is', 'throughout', 'eleven', 'be', 'four', 'or', 'do', 'take', 'after', 'few', 'among', 'doing', 'thereafter', 'we', 'ours', 'toward', 'anyone', 'enough', 'whether', 'seemed', 'again', 'amount', 'give', 'across', 'ourselves', 'whatever', '’ve', '‘ll', 'here', 'beside', \"'s\", 'much', 'everyone', 'either', 'besides', 'when', 'its', 'those', \"'ve\", 'n’t', 'what', 'empty', 'perhaps', 'where', 'about', 'five', 'yours', 'yet', 'wherever', 'various', 'meanwhile', 'per', 'also', 'to', 'some', 'have', 'twelve', '’d', 'their', 'full', 'least', 'before', 'three', 'call', 'often', 'becomes', 'serious', 'six', 'his', 'hence', 'because', 'most']\n"
          ]
        }
      ]
    },
    {
      "cell_type": "code",
      "source": [
        "npl = spacy.load( \"en_core_web_sm\")"
      ],
      "metadata": {
        "id": "CVrJ-hgpSpcE"
      },
      "execution_count": 5,
      "outputs": []
    },
    {
      "cell_type": "code",
      "source": [
        "docs = npl(doc)\n",
        "print(doc)"
      ],
      "metadata": {
        "colab": {
          "base_uri": "https://localhost:8080/"
        },
        "id": "E6Evs9jhSwTx",
        "outputId": "63ee0495-a451-4c33-c27e-cd695bbbfacb"
      },
      "execution_count": 6,
      "outputs": [
        {
          "output_type": "stream",
          "name": "stdout",
          "text": [
            "Machine learning (ML) and artificial intelligence (AI) are becoming dominant problem-solving techniques in many areas of resear ch and industry, not least because of the recent successes of deep learning (DL). However, the equation AI-ML-DL, as recently s uggested in the news, blogs, and media, falls too short. These fields share the same fundamental hypotheses: computation is a u seful way to model intelligent behavior in machines. What kind of computation and how to program it? This is not the right ques tion. Computation neither rules out search, logical, and probabilistic techniques, nor (deep) (un) supervised and reinforcement learning methods, among others, as computational models do include all of them. They complement each other, and the next breakt hrough lies not only in pushing each of them but also in combining them.\n",
            "Big Data is no fad. The world is growing at an exponential rate and so is the size of the data collected across the globe. Data is becoming more meaningful and contextually relevant, breaking new grounds for machine learning (ML), in particular for deep 1 earning (DL) and artificial intelligence (AI), moving them out of research labs into production (Jordan and Mitchell, 2015). Th e problem has shifted from collecting massive amounts of data to understanding it-turning it into knowledge, conclusions, and a ctions. Multiple research disciplines, from cognitive sciences to biology, finance, physics, and social sciences, as well as ma ny companies believe that data-driven and \"intelligent\" solutions are necessary to solve many of their key problems. High-throu ghput genomic and proteomic experiments can be used to enable personalized medicine. Large data sets of search queries can be u sed to improve information retrieval. Historical climate data can be used to understand global warming and to better predict we ather. Large amounts of sensor readings and hyperspectral images of plants can be used to identify drought conditions and to ga in insights into when and how stress impacts plant growth and development and in turn how to counterattack the problem of world hunger. Game data can turn pixels into actions within video games, while observational data can help enable robots to understan d complex and unstructured environments and to learn manipulation skills.\n",
            "However, is AI, ML, and DL really synonymous, as recently suggested in the news, blogs, and media? For example, when AlphaGo (S ilver et al., 2016) defeated South Korean Master Lee Se-dol in the board game Go in 2016, the terms AI, ML, and DL were used by the media to describe how AlphaGo won. In addition to this, even Gartner's list (Panetta, 2017) of top 10 Strategic Trends for 2018 places (narrow) AI at the very top, specifying it as \"consisting of highly scoped machine-learning solutions that target a specific task.\n"
          ]
        }
      ]
    },
    {
      "cell_type": "code",
      "source": [
        "tokens = [i.text for i in docs]\n",
        "print(tokens)"
      ],
      "metadata": {
        "colab": {
          "base_uri": "https://localhost:8080/"
        },
        "id": "wI034dkjS33z",
        "outputId": "ae7de32b-aa60-4f9f-df7d-0a829f80e0e4"
      },
      "execution_count": 7,
      "outputs": [
        {
          "output_type": "stream",
          "name": "stdout",
          "text": [
            "['Machine', 'learning', '(', 'ML', ')', 'and', 'artificial', 'intelligence', '(', 'AI', ')', 'are', 'becoming', 'dominant', 'problem', '-', 'solving', 'techniques', 'in', 'many', 'areas', 'of', 'resear', 'ch', 'and', 'industry', ',', 'not', 'least', 'because', 'of', 'the', 'recent', 'successes', 'of', 'deep', 'learning', '(', 'DL', ')', '.', 'However', ',', 'the', 'equation', 'AI', '-', 'ML', '-', 'DL', ',', 'as', 'recently', 's', 'uggested', 'in', 'the', 'news', ',', 'blogs', ',', 'and', 'media', ',', 'falls', 'too', 'short', '.', 'These', 'fields', 'share', 'the', 'same', 'fundamental', 'hypotheses', ':', 'computation', 'is', 'a', 'u', 'seful', 'way', 'to', 'model', 'intelligent', 'behavior', 'in', 'machines', '.', 'What', 'kind', 'of', 'computation', 'and', 'how', 'to', 'program', 'it', '?', 'This', 'is', 'not', 'the', 'right', 'ques', 'tion', '.', 'Computation', 'neither', 'rules', 'out', 'search', ',', 'logical', ',', 'and', 'probabilistic', 'techniques', ',', 'nor', '(', 'deep', ')', '(', 'un', ')', 'supervised', 'and', 'reinforcement', 'learning', 'methods', ',', 'among', 'others', ',', 'as', 'computational', 'models', 'do', 'include', 'all', 'of', 'them', '.', 'They', 'complement', 'each', 'other', ',', 'and', 'the', 'next', 'breakt', 'hrough', 'lies', 'not', 'only', 'in', 'pushing', 'each', 'of', 'them', 'but', 'also', 'in', 'combining', 'them', '.', '\\n', 'Big', 'Data', 'is', 'no', 'fad', '.', 'The', 'world', 'is', 'growing', 'at', 'an', 'exponential', 'rate', 'and', 'so', 'is', 'the', 'size', 'of', 'the', 'data', 'collected', 'across', 'the', 'globe', '.', 'Data', 'is', 'becoming', 'more', 'meaningful', 'and', 'contextually', 'relevant', ',', 'breaking', 'new', 'grounds', 'for', 'machine', 'learning', '(', 'ML', ')', ',', 'in', 'particular', 'for', 'deep', '1', 'earning', '(', 'DL', ')', 'and', 'artificial', 'intelligence', '(', 'AI', ')', ',', 'moving', 'them', 'out', 'of', 'research', 'labs', 'into', 'production', '(', 'Jordan', 'and', 'Mitchell', ',', '2015', ')', '.', 'Th', 'e', 'problem', 'has', 'shifted', 'from', 'collecting', 'massive', 'amounts', 'of', 'data', 'to', 'understanding', 'it', '-', 'turning', 'it', 'into', 'knowledge', ',', 'conclusions', ',', 'and', 'a', 'ctions', '.', 'Multiple', 'research', 'disciplines', ',', 'from', 'cognitive', 'sciences', 'to', 'biology', ',', 'finance', ',', 'physics', ',', 'and', 'social', 'sciences', ',', 'as', 'well', 'as', 'ma', 'ny', 'companies', 'believe', 'that', 'data', '-', 'driven', 'and', '\"', 'intelligent', '\"', 'solutions', 'are', 'necessary', 'to', 'solve', 'many', 'of', 'their', 'key', 'problems', '.', 'High', '-', 'throu', 'ghput', 'genomic', 'and', 'proteomic', 'experiments', 'can', 'be', 'used', 'to', 'enable', 'personalized', 'medicine', '.', 'Large', 'data', 'sets', 'of', 'search', 'queries', 'can', 'be', 'u', 'sed', 'to', 'improve', 'information', 'retrieval', '.', 'Historical', 'climate', 'data', 'can', 'be', 'used', 'to', 'understand', 'global', 'warming', 'and', 'to', 'better', 'predict', 'we', 'ather', '.', 'Large', 'amounts', 'of', 'sensor', 'readings', 'and', 'hyperspectral', 'images', 'of', 'plants', 'can', 'be', 'used', 'to', 'identify', 'drought', 'conditions', 'and', 'to', 'ga', 'in', 'insights', 'into', 'when', 'and', 'how', 'stress', 'impacts', 'plant', 'growth', 'and', 'development', 'and', 'in', 'turn', 'how', 'to', 'counterattack', 'the', 'problem', 'of', 'world', 'hunger', '.', 'Game', 'data', 'can', 'turn', 'pixels', 'into', 'actions', 'within', 'video', 'games', ',', 'while', 'observational', 'data', 'can', 'help', 'enable', 'robots', 'to', 'understan', 'd', 'complex', 'and', 'unstructured', 'environments', 'and', 'to', 'learn', 'manipulation', 'skills', '.', '\\n', 'However', ',', 'is', 'AI', ',', 'ML', ',', 'and', 'DL', 'really', 'synonymous', ',', 'as', 'recently', 'suggested', 'in', 'the', 'news', ',', 'blogs', ',', 'and', 'media', '?', 'For', 'example', ',', 'when', 'AlphaGo', '(', 'S', 'ilver', 'et', 'al', '.', ',', '2016', ')', 'defeated', 'South', 'Korean', 'Master', 'Lee', 'Se', '-', 'dol', 'in', 'the', 'board', 'game', 'Go', 'in', '2016', ',', 'the', 'terms', 'AI', ',', 'ML', ',', 'and', 'DL', 'were', 'used', 'by', 'the', 'media', 'to', 'describe', 'how', 'AlphaGo', 'won', '.', 'In', 'addition', 'to', 'this', ',', 'even', 'Gartner', \"'s\", 'list', '(', 'Panetta', ',', '2017', ')', 'of', 'top', '10', 'Strategic', 'Trends', 'for', '2018', 'places', '(', 'narrow', ')', 'AI', 'at', 'the', 'very', 'top', ',', 'specifying', 'it', 'as', '\"', 'consisting', 'of', 'highly', 'scoped', 'machine', '-', 'learning', 'solutions', 'that', 'target', 'a', 'specific', 'task', '.']\n"
          ]
        }
      ]
    },
    {
      "cell_type": "code",
      "source": [
        "word_frequencies = {}\n",
        "\n",
        "for word in docs:\n",
        "    if word.text.lower() not in stopWords:\n",
        "       if word.text.lower() not in punctuation:\n",
        "          if word.text not in word_frequencies.keys():\n",
        "              word_frequencies [word.text] = 1\n",
        "          else:\n",
        "               word_frequencies [word.text] += 1\n",
        "print(word_frequencies)"
      ],
      "metadata": {
        "colab": {
          "base_uri": "https://localhost:8080/"
        },
        "id": "a6nUz4yqTKmD",
        "outputId": "e852531e-112c-4eeb-fd14-6af7c219cd7b"
      },
      "execution_count": 8,
      "outputs": [
        {
          "output_type": "stream",
          "name": "stdout",
          "text": [
            "{'Machine': 1, 'learning': 5, 'ML': 5, 'artificial': 2, 'intelligence': 2, 'AI': 6, 'dominant': 1, 'problem': 3, 'solving': 1, 'techniques': 2, 'areas': 1, 'resear': 1, 'ch': 1, 'industry': 1, 'recent': 1, 'successes': 1, 'deep': 3, 'DL': 5, 'equation': 1, 'recently': 2, 's': 1, 'uggested': 1, 'news': 2, 'blogs': 2, 'media': 3, 'falls': 1, 'short': 1, 'fields': 1, 'share': 1, 'fundamental': 1, 'hypotheses': 1, 'computation': 2, 'u': 2, 'seful': 1, 'way': 1, 'model': 1, 'intelligent': 2, 'behavior': 1, 'machines': 1, 'kind': 1, 'program': 1, 'right': 1, 'ques': 1, 'tion': 1, 'Computation': 1, 'rules': 1, 'search': 2, 'logical': 1, 'probabilistic': 1, 'un': 1, 'supervised': 1, 'reinforcement': 1, 'methods': 1, 'computational': 1, 'models': 1, 'include': 1, 'complement': 1, 'breakt': 1, 'hrough': 1, 'lies': 1, 'pushing': 1, 'combining': 1, '\\n': 2, 'Big': 1, 'Data': 2, 'fad': 1, 'world': 2, 'growing': 1, 'exponential': 1, 'rate': 1, 'size': 1, 'data': 7, 'collected': 1, 'globe': 1, 'meaningful': 1, 'contextually': 1, 'relevant': 1, 'breaking': 1, 'new': 1, 'grounds': 1, 'machine': 2, 'particular': 1, '1': 1, 'earning': 1, 'moving': 1, 'research': 2, 'labs': 1, 'production': 1, 'Jordan': 1, 'Mitchell': 1, '2015': 1, 'Th': 1, 'e': 1, 'shifted': 1, 'collecting': 1, 'massive': 1, 'amounts': 2, 'understanding': 1, 'turning': 1, 'knowledge': 1, 'conclusions': 1, 'ctions': 1, 'Multiple': 1, 'disciplines': 1, 'cognitive': 1, 'sciences': 2, 'biology': 1, 'finance': 1, 'physics': 1, 'social': 1, 'ma': 1, 'ny': 1, 'companies': 1, 'believe': 1, 'driven': 1, 'solutions': 2, 'necessary': 1, 'solve': 1, 'key': 1, 'problems': 1, 'High': 1, 'throu': 1, 'ghput': 1, 'genomic': 1, 'proteomic': 1, 'experiments': 1, 'enable': 2, 'personalized': 1, 'medicine': 1, 'Large': 2, 'sets': 1, 'queries': 1, 'sed': 1, 'improve': 1, 'information': 1, 'retrieval': 1, 'Historical': 1, 'climate': 1, 'understand': 1, 'global': 1, 'warming': 1, 'better': 1, 'predict': 1, 'ather': 1, 'sensor': 1, 'readings': 1, 'hyperspectral': 1, 'images': 1, 'plants': 1, 'identify': 1, 'drought': 1, 'conditions': 1, 'ga': 1, 'insights': 1, 'stress': 1, 'impacts': 1, 'plant': 1, 'growth': 1, 'development': 1, 'turn': 2, 'counterattack': 1, 'hunger': 1, 'Game': 1, 'pixels': 1, 'actions': 1, 'video': 1, 'games': 1, 'observational': 1, 'help': 1, 'robots': 1, 'understan': 1, 'd': 1, 'complex': 1, 'unstructured': 1, 'environments': 1, 'learn': 1, 'manipulation': 1, 'skills': 1, 'synonymous': 1, 'suggested': 1, 'example': 1, 'AlphaGo': 2, 'S': 1, 'ilver': 1, 'et': 1, 'al': 1, '2016': 2, 'defeated': 1, 'South': 1, 'Korean': 1, 'Master': 1, 'Lee': 1, 'Se': 1, 'dol': 1, 'board': 1, 'game': 1, 'terms': 1, 'describe': 1, 'won': 1, 'addition': 1, 'Gartner': 1, 'list': 1, 'Panetta': 1, '2017': 1, '10': 1, 'Strategic': 1, 'Trends': 1, '2018': 1, 'places': 1, 'narrow': 1, 'specifying': 1, 'consisting': 1, 'highly': 1, 'scoped': 1, 'target': 1, 'specific': 1, 'task': 1}\n"
          ]
        }
      ]
    },
    {
      "cell_type": "code",
      "source": [
        "maxFrequency = max(word_frequencies.values())\n",
        "maxFrequency"
      ],
      "metadata": {
        "colab": {
          "base_uri": "https://localhost:8080/"
        },
        "id": "zg9bhbAJTjc4",
        "outputId": "2db6d0b5-14b4-4a93-8abf-ec07f0a0cd41"
      },
      "execution_count": 9,
      "outputs": [
        {
          "output_type": "execute_result",
          "data": {
            "text/plain": [
              "7"
            ]
          },
          "metadata": {},
          "execution_count": 9
        }
      ]
    },
    {
      "cell_type": "code",
      "source": [
        "for i in word_frequencies.keys():\n",
        "    word_frequencies[i] = word_frequencies[i]/maxFrequency"
      ],
      "metadata": {
        "id": "YmVagjdpTvM2"
      },
      "execution_count": 11,
      "outputs": []
    },
    {
      "cell_type": "code",
      "source": [
        "print(word_frequencies)"
      ],
      "metadata": {
        "colab": {
          "base_uri": "https://localhost:8080/"
        },
        "id": "qtqBs1vnUBx8",
        "outputId": "b2c19243-45f3-40ab-e0bc-f2f893d767cf"
      },
      "execution_count": 12,
      "outputs": [
        {
          "output_type": "stream",
          "name": "stdout",
          "text": [
            "{'Machine': 0.14285714285714285, 'learning': 0.7142857142857143, 'ML': 0.7142857142857143, 'artificial': 0.2857142857142857, 'intelligence': 0.2857142857142857, 'AI': 0.8571428571428571, 'dominant': 0.14285714285714285, 'problem': 0.42857142857142855, 'solving': 0.14285714285714285, 'techniques': 0.2857142857142857, 'areas': 0.14285714285714285, 'resear': 0.14285714285714285, 'ch': 0.14285714285714285, 'industry': 0.14285714285714285, 'recent': 0.14285714285714285, 'successes': 0.14285714285714285, 'deep': 0.42857142857142855, 'DL': 0.7142857142857143, 'equation': 0.14285714285714285, 'recently': 0.2857142857142857, 's': 0.14285714285714285, 'uggested': 0.14285714285714285, 'news': 0.2857142857142857, 'blogs': 0.2857142857142857, 'media': 0.42857142857142855, 'falls': 0.14285714285714285, 'short': 0.14285714285714285, 'fields': 0.14285714285714285, 'share': 0.14285714285714285, 'fundamental': 0.14285714285714285, 'hypotheses': 0.14285714285714285, 'computation': 0.2857142857142857, 'u': 0.2857142857142857, 'seful': 0.14285714285714285, 'way': 0.14285714285714285, 'model': 0.14285714285714285, 'intelligent': 0.2857142857142857, 'behavior': 0.14285714285714285, 'machines': 0.14285714285714285, 'kind': 0.14285714285714285, 'program': 0.14285714285714285, 'right': 0.14285714285714285, 'ques': 0.14285714285714285, 'tion': 0.14285714285714285, 'Computation': 0.14285714285714285, 'rules': 0.14285714285714285, 'search': 0.2857142857142857, 'logical': 0.14285714285714285, 'probabilistic': 0.14285714285714285, 'un': 0.14285714285714285, 'supervised': 0.14285714285714285, 'reinforcement': 0.14285714285714285, 'methods': 0.14285714285714285, 'computational': 0.14285714285714285, 'models': 0.14285714285714285, 'include': 0.14285714285714285, 'complement': 0.14285714285714285, 'breakt': 0.14285714285714285, 'hrough': 0.14285714285714285, 'lies': 0.14285714285714285, 'pushing': 0.14285714285714285, 'combining': 0.14285714285714285, '\\n': 0.2857142857142857, 'Big': 0.14285714285714285, 'Data': 0.2857142857142857, 'fad': 0.14285714285714285, 'world': 0.2857142857142857, 'growing': 0.14285714285714285, 'exponential': 0.14285714285714285, 'rate': 0.14285714285714285, 'size': 0.14285714285714285, 'data': 1.0, 'collected': 0.14285714285714285, 'globe': 0.14285714285714285, 'meaningful': 0.14285714285714285, 'contextually': 0.14285714285714285, 'relevant': 0.14285714285714285, 'breaking': 0.14285714285714285, 'new': 0.14285714285714285, 'grounds': 0.14285714285714285, 'machine': 0.2857142857142857, 'particular': 0.14285714285714285, '1': 0.14285714285714285, 'earning': 0.14285714285714285, 'moving': 0.14285714285714285, 'research': 0.2857142857142857, 'labs': 0.14285714285714285, 'production': 0.14285714285714285, 'Jordan': 0.14285714285714285, 'Mitchell': 0.14285714285714285, '2015': 0.14285714285714285, 'Th': 0.14285714285714285, 'e': 0.14285714285714285, 'shifted': 0.14285714285714285, 'collecting': 0.14285714285714285, 'massive': 0.14285714285714285, 'amounts': 0.2857142857142857, 'understanding': 0.14285714285714285, 'turning': 0.14285714285714285, 'knowledge': 0.14285714285714285, 'conclusions': 0.14285714285714285, 'ctions': 0.14285714285714285, 'Multiple': 0.14285714285714285, 'disciplines': 0.14285714285714285, 'cognitive': 0.14285714285714285, 'sciences': 0.2857142857142857, 'biology': 0.14285714285714285, 'finance': 0.14285714285714285, 'physics': 0.14285714285714285, 'social': 0.14285714285714285, 'ma': 0.14285714285714285, 'ny': 0.14285714285714285, 'companies': 0.14285714285714285, 'believe': 0.14285714285714285, 'driven': 0.14285714285714285, 'solutions': 0.2857142857142857, 'necessary': 0.14285714285714285, 'solve': 0.14285714285714285, 'key': 0.14285714285714285, 'problems': 0.14285714285714285, 'High': 0.14285714285714285, 'throu': 0.14285714285714285, 'ghput': 0.14285714285714285, 'genomic': 0.14285714285714285, 'proteomic': 0.14285714285714285, 'experiments': 0.14285714285714285, 'enable': 0.2857142857142857, 'personalized': 0.14285714285714285, 'medicine': 0.14285714285714285, 'Large': 0.2857142857142857, 'sets': 0.14285714285714285, 'queries': 0.14285714285714285, 'sed': 0.14285714285714285, 'improve': 0.14285714285714285, 'information': 0.14285714285714285, 'retrieval': 0.14285714285714285, 'Historical': 0.14285714285714285, 'climate': 0.14285714285714285, 'understand': 0.14285714285714285, 'global': 0.14285714285714285, 'warming': 0.14285714285714285, 'better': 0.14285714285714285, 'predict': 0.14285714285714285, 'ather': 0.14285714285714285, 'sensor': 0.14285714285714285, 'readings': 0.14285714285714285, 'hyperspectral': 0.14285714285714285, 'images': 0.14285714285714285, 'plants': 0.14285714285714285, 'identify': 0.14285714285714285, 'drought': 0.14285714285714285, 'conditions': 0.14285714285714285, 'ga': 0.14285714285714285, 'insights': 0.14285714285714285, 'stress': 0.14285714285714285, 'impacts': 0.14285714285714285, 'plant': 0.14285714285714285, 'growth': 0.14285714285714285, 'development': 0.14285714285714285, 'turn': 0.2857142857142857, 'counterattack': 0.14285714285714285, 'hunger': 0.14285714285714285, 'Game': 0.14285714285714285, 'pixels': 0.14285714285714285, 'actions': 0.14285714285714285, 'video': 0.14285714285714285, 'games': 0.14285714285714285, 'observational': 0.14285714285714285, 'help': 0.14285714285714285, 'robots': 0.14285714285714285, 'understan': 0.14285714285714285, 'd': 0.14285714285714285, 'complex': 0.14285714285714285, 'unstructured': 0.14285714285714285, 'environments': 0.14285714285714285, 'learn': 0.14285714285714285, 'manipulation': 0.14285714285714285, 'skills': 0.14285714285714285, 'synonymous': 0.14285714285714285, 'suggested': 0.14285714285714285, 'example': 0.14285714285714285, 'AlphaGo': 0.2857142857142857, 'S': 0.14285714285714285, 'ilver': 0.14285714285714285, 'et': 0.14285714285714285, 'al': 0.14285714285714285, '2016': 0.2857142857142857, 'defeated': 0.14285714285714285, 'South': 0.14285714285714285, 'Korean': 0.14285714285714285, 'Master': 0.14285714285714285, 'Lee': 0.14285714285714285, 'Se': 0.14285714285714285, 'dol': 0.14285714285714285, 'board': 0.14285714285714285, 'game': 0.14285714285714285, 'terms': 0.14285714285714285, 'describe': 0.14285714285714285, 'won': 0.14285714285714285, 'addition': 0.14285714285714285, 'Gartner': 0.14285714285714285, 'list': 0.14285714285714285, 'Panetta': 0.14285714285714285, '2017': 0.14285714285714285, '10': 0.14285714285714285, 'Strategic': 0.14285714285714285, 'Trends': 0.14285714285714285, '2018': 0.14285714285714285, 'places': 0.14285714285714285, 'narrow': 0.14285714285714285, 'specifying': 0.14285714285714285, 'consisting': 0.14285714285714285, 'highly': 0.14285714285714285, 'scoped': 0.14285714285714285, 'target': 0.14285714285714285, 'specific': 0.14285714285714285, 'task': 0.14285714285714285}\n"
          ]
        }
      ]
    },
    {
      "cell_type": "code",
      "source": [
        "sent_tokens = [sent for sent in docs.sents]\n",
        "print(sent_tokens)"
      ],
      "metadata": {
        "colab": {
          "base_uri": "https://localhost:8080/"
        },
        "id": "TeZGqqKIUIDG",
        "outputId": "07c608ae-564e-4d2f-9e25-576e42e5b2c8"
      },
      "execution_count": 13,
      "outputs": [
        {
          "output_type": "stream",
          "name": "stdout",
          "text": [
            "[Machine learning (ML) and artificial intelligence (AI) are becoming dominant problem-solving techniques in many areas of resear ch and industry, not least because of the recent successes of deep learning (DL)., However, the equation AI-ML-DL, as recently s uggested in the news, blogs, and media, falls too short., These fields share the same fundamental hypotheses: computation is a u seful way to model intelligent behavior in machines., What kind of computation and how to program it?, This is not the right ques tion., Computation neither rules out search, logical, and probabilistic techniques, nor (deep) (un) supervised and reinforcement learning methods, among others, as computational models do include all of them., They complement each other, and the next breakt hrough lies not only in pushing each of them but also in combining them.\n",
            ", Big Data is no fad., The world is growing at an exponential rate and so is the size of the data collected across the globe., Data is becoming more meaningful and contextually relevant, breaking new grounds for machine learning (ML), in particular for deep 1 earning (DL) and artificial intelligence (AI), moving them out of research labs into production (Jordan and Mitchell, 2015)., Th e problem has shifted from collecting massive amounts of data to understanding it-turning it into knowledge, conclusions, and a ctions., Multiple research disciplines, from cognitive sciences to biology, finance, physics, and social sciences, as well as ma ny companies believe that data-driven and \"intelligent\" solutions are necessary to solve many of their key problems., High-throu ghput genomic and proteomic experiments can be used to enable personalized medicine., Large data sets of search queries can be u sed to improve information retrieval., Historical climate data can be used to understand global warming and to better predict we ather., Large amounts of sensor readings and hyperspectral images of plants can be used to identify drought conditions and to ga in insights into when and how stress impacts plant growth and development and in turn how to counterattack the problem of world hunger., Game data can turn pixels into actions within video games, while observational data can help enable robots to understan d complex and unstructured environments and to learn manipulation skills.\n",
            ", However, is AI, ML, and DL really synonymous, as recently suggested in the news, blogs, and media?, For example, when AlphaGo (S ilver et al., 2016) defeated South Korean Master Lee Se-dol in the board game Go in 2016, the terms AI, ML, and DL were used by the media to describe how AlphaGo won., In addition to this, even Gartner's list (Panetta, 2017) of top 10 Strategic Trends for 2018 places (narrow) AI at the very top, specifying it as \"consisting of highly scoped machine-learning solutions that target a specific task.]\n"
          ]
        }
      ]
    },
    {
      "cell_type": "code",
      "source": [
        "sentence_score = {}\n",
        "for sent in sent_tokens:\n",
        "  for word in sent:\n",
        "    if word.text.lower() in word_frequencies.keys():\n",
        "      if sent not in sentence_score.keys():\n",
        "        sentence_score[sent] = word_frequencies [word.text.lower()]\n",
        "      else:\n",
        "          sentence_score[sent] += word_frequencies [word.text.lower()]\n",
        "\n",
        "sentence_score"
      ],
      "metadata": {
        "colab": {
          "base_uri": "https://localhost:8080/"
        },
        "id": "eCg8dYYSUIFZ",
        "outputId": "6a1e2707-94aa-48e5-a2e3-b2965149d613"
      },
      "execution_count": 18,
      "outputs": [
        {
          "output_type": "execute_result",
          "data": {
            "text/plain": [
              "{Machine learning (ML) and artificial intelligence (AI) are becoming dominant problem-solving techniques in many areas of resear ch and industry, not least because of the recent successes of deep learning (DL).: 4.57142857142857,\n",
              " However, the equation AI-ML-DL, as recently s uggested in the news, blogs, and media, falls too short.: 1.9999999999999998,\n",
              " These fields share the same fundamental hypotheses: computation is a u seful way to model intelligent behavior in machines.: 2.1428571428571423,\n",
              " What kind of computation and how to program it?: 0.5714285714285714,\n",
              " This is not the right ques tion.: 0.42857142857142855,\n",
              " Computation neither rules out search, logical, and probabilistic techniques, nor (deep) (un) supervised and reinforcement learning methods, among others, as computational models do include all of them.: 3.4285714285714284,\n",
              " They complement each other, and the next breakt hrough lies not only in pushing each of them but also in combining them.: 1.1428571428571428,\n",
              " Big Data is no fad.: 1.1428571428571428,\n",
              " The world is growing at an exponential rate and so is the size of the data collected across the globe.: 2.142857142857143,\n",
              " Data is becoming more meaningful and contextually relevant, breaking new grounds for machine learning (ML), in particular for deep 1 earning (DL) and artificial intelligence (AI), moving them out of research labs into production (Jordan and Mitchell, 2015).: 5.142857142857143,\n",
              " Th e problem has shifted from collecting massive amounts of data to understanding it-turning it into knowledge, conclusions, and a ctions.: 2.9999999999999996,\n",
              " Multiple research disciplines, from cognitive sciences to biology, finance, physics, and social sciences, as well as ma ny companies believe that data-driven and \"intelligent\" solutions are necessary to solve many of their key problems.: 4.571428571428572,\n",
              " High-throu ghput genomic and proteomic experiments can be used to enable personalized medicine.: 1.2857142857142856,\n",
              " Large data sets of search queries can be u sed to improve information retrieval.: 2.428571428571428,\n",
              " Historical climate data can be used to understand global warming and to better predict we ather.: 1.9999999999999996,\n",
              " Large amounts of sensor readings and hyperspectral images of plants can be used to identify drought conditions and to ga in insights into when and how stress impacts plant growth and development and in turn how to counterattack the problem of world hunger.: 3.714285714285713,\n",
              " Game data can turn pixels into actions within video games, while observational data can help enable robots to understan d complex and unstructured environments and to learn manipulation skills.: 5.142857142857144,\n",
              " However, is AI, ML, and DL really synonymous, as recently suggested in the news, blogs, and media?: 1.5714285714285714,\n",
              " For example, when AlphaGo (S ilver et al., 2016) defeated South Korean Master Lee Se-dol in the board game Go in 2016, the terms AI, ML, and DL were used by the media to describe how AlphaGo won.: 2.7142857142857135,\n",
              " In addition to this, even Gartner's list (Panetta, 2017) of top 10 Strategic Trends for 2018 places (narrow) AI at the very top, specifying it as \"consisting of highly scoped machine-learning solutions that target a specific task.: 3.285714285714285}"
            ]
          },
          "metadata": {},
          "execution_count": 18
        }
      ]
    },
    {
      "cell_type": "code",
      "source": [
        "from  heapq import nlargest"
      ],
      "metadata": {
        "id": "B0t1FlT1UIGz"
      },
      "execution_count": 19,
      "outputs": []
    },
    {
      "cell_type": "code",
      "source": [
        "select_len = int(len(sent_tokens)*0.3)\n",
        "select_len"
      ],
      "metadata": {
        "colab": {
          "base_uri": "https://localhost:8080/"
        },
        "id": "xAQTTeB_UIKM",
        "outputId": "1ab906cf-0a41-446f-fbec-d892107d2db0"
      },
      "execution_count": 20,
      "outputs": [
        {
          "output_type": "execute_result",
          "data": {
            "text/plain": [
              "6"
            ]
          },
          "metadata": {},
          "execution_count": 20
        }
      ]
    },
    {
      "cell_type": "code",
      "source": [
        "summary = nlargest(select_len, sentence_score, sentence_score.get)\n",
        "summary"
      ],
      "metadata": {
        "colab": {
          "base_uri": "https://localhost:8080/"
        },
        "id": "JMO9iggOWTxs",
        "outputId": "df934b5b-f5d6-4c08-b5c6-437822d52772"
      },
      "execution_count": 21,
      "outputs": [
        {
          "output_type": "execute_result",
          "data": {
            "text/plain": [
              "[Game data can turn pixels into actions within video games, while observational data can help enable robots to understan d complex and unstructured environments and to learn manipulation skills.,\n",
              " Data is becoming more meaningful and contextually relevant, breaking new grounds for machine learning (ML), in particular for deep 1 earning (DL) and artificial intelligence (AI), moving them out of research labs into production (Jordan and Mitchell, 2015).,\n",
              " Multiple research disciplines, from cognitive sciences to biology, finance, physics, and social sciences, as well as ma ny companies believe that data-driven and \"intelligent\" solutions are necessary to solve many of their key problems.,\n",
              " Machine learning (ML) and artificial intelligence (AI) are becoming dominant problem-solving techniques in many areas of resear ch and industry, not least because of the recent successes of deep learning (DL).,\n",
              " Large amounts of sensor readings and hyperspectral images of plants can be used to identify drought conditions and to ga in insights into when and how stress impacts plant growth and development and in turn how to counterattack the problem of world hunger.,\n",
              " Computation neither rules out search, logical, and probabilistic techniques, nor (deep) (un) supervised and reinforcement learning methods, among others, as computational models do include all of them.]"
            ]
          },
          "metadata": {},
          "execution_count": 21
        }
      ]
    },
    {
      "cell_type": "code",
      "source": [
        "summary  = [word.text for word in summary]\n",
        "summary"
      ],
      "metadata": {
        "colab": {
          "base_uri": "https://localhost:8080/"
        },
        "id": "dBEpFiYCWh2g",
        "outputId": "1118a3f4-3a16-47e8-f2f6-599085e9401a"
      },
      "execution_count": 22,
      "outputs": [
        {
          "output_type": "execute_result",
          "data": {
            "text/plain": [
              "['Game data can turn pixels into actions within video games, while observational data can help enable robots to understan d complex and unstructured environments and to learn manipulation skills.\\n',\n",
              " 'Data is becoming more meaningful and contextually relevant, breaking new grounds for machine learning (ML), in particular for deep 1 earning (DL) and artificial intelligence (AI), moving them out of research labs into production (Jordan and Mitchell, 2015).',\n",
              " 'Multiple research disciplines, from cognitive sciences to biology, finance, physics, and social sciences, as well as ma ny companies believe that data-driven and \"intelligent\" solutions are necessary to solve many of their key problems.',\n",
              " 'Machine learning (ML) and artificial intelligence (AI) are becoming dominant problem-solving techniques in many areas of resear ch and industry, not least because of the recent successes of deep learning (DL).',\n",
              " 'Large amounts of sensor readings and hyperspectral images of plants can be used to identify drought conditions and to ga in insights into when and how stress impacts plant growth and development and in turn how to counterattack the problem of world hunger.',\n",
              " 'Computation neither rules out search, logical, and probabilistic techniques, nor (deep) (un) supervised and reinforcement learning methods, among others, as computational models do include all of them.']"
            ]
          },
          "metadata": {},
          "execution_count": 22
        }
      ]
    },
    {
      "cell_type": "code",
      "source": [
        "summary = \"\".join(summary)\n",
        "summary"
      ],
      "metadata": {
        "colab": {
          "base_uri": "https://localhost:8080/",
          "height": 140
        },
        "id": "84TPPVlyWqpO",
        "outputId": "4c51a582-9572-4f91-b21e-c5b704907072"
      },
      "execution_count": 23,
      "outputs": [
        {
          "output_type": "execute_result",
          "data": {
            "text/plain": [
              "'Game data can turn pixels into actions within video games, while observational data can help enable robots to understan d complex and unstructured environments and to learn manipulation skills.\\nData is becoming more meaningful and contextually relevant, breaking new grounds for machine learning (ML), in particular for deep 1 earning (DL) and artificial intelligence (AI), moving them out of research labs into production (Jordan and Mitchell, 2015).Multiple research disciplines, from cognitive sciences to biology, finance, physics, and social sciences, as well as ma ny companies believe that data-driven and \"intelligent\" solutions are necessary to solve many of their key problems.Machine learning (ML) and artificial intelligence (AI) are becoming dominant problem-solving techniques in many areas of resear ch and industry, not least because of the recent successes of deep learning (DL).Large amounts of sensor readings and hyperspectral images of plants can be used to identify drought conditions and to ga in insights into when and how stress impacts plant growth and development and in turn how to counterattack the problem of world hunger.Computation neither rules out search, logical, and probabilistic techniques, nor (deep) (un) supervised and reinforcement learning methods, among others, as computational models do include all of them.'"
            ],
            "application/vnd.google.colaboratory.intrinsic+json": {
              "type": "string"
            }
          },
          "metadata": {},
          "execution_count": 23
        }
      ]
    }
  ]
}